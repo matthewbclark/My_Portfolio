{
  "nbformat": 4,
  "nbformat_minor": 0,
  "metadata": {
    "colab": {
      "name": "Final_ Working_Control_Model_Mamun_2019_VGG16.ipynb",
      "provenance": [],
      "collapsed_sections": []
    },
    "kernelspec": {
      "display_name": "Python 3",
      "name": "python3"
    },
    "language_info": {
      "name": "python"
    }
  },
  "cells": [
    {
      "cell_type": "markdown",
      "source": [
        "This code contains the control model for the VGG16 model for classifying wildlife images of mountain zebra, elands and bull kudu. In this model, the images were not divided by the angle of the animal. "
      ],
      "metadata": {
        "id": "NNVlpvjw9FjJ"
      }
    },
    {
      "cell_type": "code",
      "metadata": {
        "colab": {
          "base_uri": "https://localhost:8080/",
          "height": 16
        },
        "id": "lDUuG7oRW75u",
        "outputId": "00577a25-7458-4115-e776-feee4acccd8e"
      },
      "source": [
        "from IPython.core.display import display, HTML\n",
        "display(HTML(\"<style>.container { width:95% !important; }</style>\"))"
      ],
      "execution_count": null,
      "outputs": [
        {
          "output_type": "display_data",
          "data": {
            "text/html": [
              "<style>.container { width:95% !important; }</style>"
            ],
            "text/plain": [
              "<IPython.core.display.HTML object>"
            ]
          },
          "metadata": {
            "tags": []
          }
        }
      ]
    },
    {
      "cell_type": "code",
      "metadata": {
        "id": "M9vmgl97Pv_u"
      },
      "source": [
        "#Import libraries\n",
        "import numpy as np\n",
        "import pandas as pd\n",
        "import itertools\n",
        "import keras\n",
        "import matplotlib.pyplot as plt\n",
        "import tensorflow as tf\n",
        "from tensorflow.keras import backend, models, layers, optimizers, regularizers\n",
        "from tensorflow.keras.utils import to_categorical\n",
        "from tensorflow.keras.layers import BatchNormalization\n",
        "from tensorflow.keras.callbacks import EarlyStopping\n",
        "from keras.preprocessing.image import ImageDataGenerator, img_to_array, load_img\n",
        "from sklearn.model_selection import train_test_split # This method ended up not being used\n",
        "from sklearn import metrics\n",
        "from sklearn.metrics import confusion_matrix\n",
        "from IPython.display import display # This library ended up not being used.\n",
        "from PIL import Image # This library was used to help view images\n",
        "from tensorflow.keras.preprocessing.image import ImageDataGenerator # This library was used for data augmentation\n",
        "import os, shutil # This libraries were used to create file connections\n",
        "import cv2\n",
        "np.random.seed(42)\n",
        "\n",
        "import pandas as pd\n",
        "import numpy as np\n",
        "import itertools\n",
        "import keras \n",
        "from sklearn import metrics\n",
        "from sklearn.metrics import confusion_matrix\n",
        "from keras.preprocessing.image import ImageDataGenerator, img_to_array, load_img\n",
        "from keras.models import Sequential\n",
        "from keras import optimizers \n",
        "from keras.preprocessing import image\n",
        "from keras.layers import Dropout, Flatten, Dense\n",
        "from keras import applications\n",
        "from keras.utils.np_utils import to_categorical\n",
        "import matplotlib.pyplot as plt\n",
        "import matplotlib.image as mpimg\n",
        "%matplotlib inline\n",
        "import math\n",
        "import datetime\n",
        "import time\n",
        "import tensorflow as tf"
      ],
      "execution_count": null,
      "outputs": []
    },
    {
      "cell_type": "code",
      "metadata": {
        "id": "dEaSe2OmXCCu"
      },
      "source": [
        "backend.clear_session()"
      ],
      "execution_count": null,
      "outputs": []
    },
    {
      "cell_type": "code",
      "metadata": {
        "colab": {
          "base_uri": "https://localhost:8080/"
        },
        "id": "Hv-GnVGOXGky",
        "outputId": "3ad7ea13-92f9-4201-8927-4174e6a9253a"
      },
      "source": [
        "from google.colab import drive\n",
        "drive.mount('/gdrive')"
      ],
      "execution_count": null,
      "outputs": [
        {
          "output_type": "stream",
          "text": [
            "Drive already mounted at /gdrive; to attempt to forcibly remount, call drive.mount(\"/gdrive\", force_remount=True).\n"
          ],
          "name": "stdout"
        }
      ]
    },
    {
      "cell_type": "code",
      "metadata": {
        "id": "8o6w0AcKXJRn"
      },
      "source": [
        "# Specify the base directory where images are located.  You need to save your data here.\n",
        "base_dir = '/gdrive/My Drive/Regis/Karoo/Ctrl_Data_Slim/'"
      ],
      "execution_count": null,
      "outputs": []
    },
    {
      "cell_type": "code",
      "metadata": {
        "id": "uPzq5rWYeY7Z"
      },
      "source": [
        "# https://towardsdatascience.com/a-simple-cnn-multi-image-classifier-31c463324fa"
      ],
      "execution_count": null,
      "outputs": []
    },
    {
      "cell_type": "code",
      "metadata": {
        "id": "NINbBUgGZ10o"
      },
      "source": [
        "# Creating dimensions and connecting to images \n",
        "# The default dimensions for the Animal_10 dataset\n",
        "img_width, img_height = 224, 224\n",
        "\n",
        "#Bottleneck File\n",
        "top_model_weights_path = '/gdrive/My Drive/Regis/Karoo/bottleneck_fc_model.h5/'\n",
        "\n",
        "# loading up our datasets\n",
        "train_data_dir = '/gdrive/My Drive/Regis/Karoo/Ctrl_Data_Slim/Train'\n",
        "validation_data_dir = '/gdrive/My Drive/Regis/Karoo/Ctrl_Data_Slim/Val'\n",
        "test_data_dir = '/gdrive/My Drive/Regis/Karoo/Ctrl_Data_Slim/Test'\n",
        "\n",
        "\n",
        "epochs = 30 \n",
        "batch_size = 10 "
      ],
      "execution_count": null,
      "outputs": []
    },
    {
      "cell_type": "code",
      "metadata": {
        "colab": {
          "base_uri": "https://localhost:8080/"
        },
        "id": "EAWbU4_NcoCx",
        "outputId": "bc099ba6-81ba-470b-8dfa-65f097586681"
      },
      "source": [
        "# Loading vgg16 model\n",
        "vgg16 = applications.VGG16(include_top=False, weights='imagenet')\n",
        "\n",
        "datagen = ImageDataGenerator(rescale=1. / 255)\n",
        "# needed to create the bottleneck .npy files"
      ],
      "execution_count": null,
      "outputs": [
        {
          "output_type": "stream",
          "text": [
            "Downloading data from https://storage.googleapis.com/tensorflow/keras-applications/vgg16/vgg16_weights_tf_dim_ordering_tf_kernels_notop.h5\n",
            "58892288/58889256 [==============================] - 0s 0us/step\n"
          ],
          "name": "stdout"
        }
      ]
    },
    {
      "cell_type": "code",
      "metadata": {
        "colab": {
          "base_uri": "https://localhost:8080/"
        },
        "id": "tq6Ao2AWa-F_",
        "outputId": "dbdfced0-846d-430b-b936-ffacf8457a94"
      },
      "source": [
        "# Creating Training Data\n",
        "start = datetime.datetime.now()\n",
        "\n",
        "generator = datagen.flow_from_directory(\n",
        "    train_data_dir,\n",
        "    target_size=(img_width, img_height),\n",
        "    batch_size=batch_size,\n",
        "    class_mode=None,\n",
        "    shuffle=False)\n",
        "\n",
        "nb_train_samples = len(generator.filenames)\n",
        "num_classes = len(generator.class_indices)\n",
        "\n",
        "predict_size_train = int(math.ceil(nb_train_samples / batch_size))\n",
        "\n",
        "bottleneck_features_train = vgg16.predict_generator(generator,\n",
        "                                                    predict_size_train)\n",
        "\n",
        "np.save('bottleneck_features_train.npy', bottleneck_features_train)\n",
        "end = datetime.datetime.now()\n",
        "elapsed = end-start\n",
        "print ('Time: ', elapsed)"
      ],
      "execution_count": null,
      "outputs": [
        {
          "output_type": "stream",
          "text": [
            "Found 788 images belonging to 3 classes.\n"
          ],
          "name": "stdout"
        },
        {
          "output_type": "stream",
          "text": [
            "/usr/local/lib/python3.7/dist-packages/tensorflow/python/keras/engine/training.py:1905: UserWarning: `Model.predict_generator` is deprecated and will be removed in a future version. Please use `Model.predict`, which supports generators.\n",
            "  warnings.warn('`Model.predict_generator` is deprecated and '\n"
          ],
          "name": "stderr"
        },
        {
          "output_type": "stream",
          "text": [
            "Time:  0:07:52.121063\n"
          ],
          "name": "stdout"
        }
      ]
    },
    {
      "cell_type": "code",
      "metadata": {
        "colab": {
          "base_uri": "https://localhost:8080/"
        },
        "id": "aykk4fFCQvXs",
        "outputId": "91d95037-70df-4139-8460-ced344d67597"
      },
      "source": [
        "#Creating Validation Data\n",
        "start = datetime.datetime.now()\n",
        "\n",
        "generator = datagen.flow_from_directory(\n",
        "    validation_data_dir,\n",
        "    target_size=(img_width, img_height),\n",
        "    batch_size=batch_size,\n",
        "    class_mode=None,\n",
        "    shuffle=False)\n",
        "\n",
        "nb_val_samples = len(generator.filenames)\n",
        "num_classes = len(generator.class_indices)\n",
        "\n",
        "predict_size_val = int(math.ceil(nb_val_samples / batch_size))\n",
        "\n",
        "bottleneck_features_val = vgg16.predict_generator(generator,\n",
        "                                                    predict_size_val)\n",
        "\n",
        "np.save('bottleneck_features_val.npy', bottleneck_features_val)\n",
        "end = datetime.datetime.now()\n",
        "elapsed = end-start\n",
        "print ('Time: ', elapsed)"
      ],
      "execution_count": null,
      "outputs": [
        {
          "output_type": "stream",
          "text": [
            "Found 197 images belonging to 3 classes.\n"
          ],
          "name": "stdout"
        },
        {
          "output_type": "stream",
          "text": [
            "/usr/local/lib/python3.7/dist-packages/tensorflow/python/keras/engine/training.py:1905: UserWarning: `Model.predict_generator` is deprecated and will be removed in a future version. Please use `Model.predict`, which supports generators.\n",
            "  warnings.warn('`Model.predict_generator` is deprecated and '\n"
          ],
          "name": "stderr"
        },
        {
          "output_type": "stream",
          "text": [
            "Time:  0:01:53.682929\n"
          ],
          "name": "stdout"
        }
      ]
    },
    {
      "cell_type": "code",
      "metadata": {
        "colab": {
          "base_uri": "https://localhost:8080/"
        },
        "id": "0Bb3Xnx-Rtuz",
        "outputId": "700261a8-c594-4260-d154-b1cab7709e5c"
      },
      "source": [
        "# Creating Test Data\n",
        "start = datetime.datetime.now()\n",
        "\n",
        "generator = datagen.flow_from_directory(\n",
        "    test_data_dir,\n",
        "    target_size=(img_width, img_height),\n",
        "    batch_size=batch_size,\n",
        "    class_mode=None,\n",
        "    shuffle=False)\n",
        "\n",
        "nb_test_samples = len(generator.filenames)\n",
        "num_classes = len(generator.class_indices)\n",
        "\n",
        "predict_size_test = int(math.ceil(nb_test_samples / batch_size))\n",
        "\n",
        "bottleneck_features_test = vgg16.predict_generator(generator,\n",
        "                                                    predict_size_test)\n",
        "\n",
        "np.save('bottleneck_features_test.npy', bottleneck_features_test)\n",
        "end = datetime.datetime.now()\n",
        "elapsed = end-start\n",
        "print ('Time: ', elapsed)"
      ],
      "execution_count": null,
      "outputs": [
        {
          "output_type": "stream",
          "text": [
            "Found 246 images belonging to 3 classes.\n"
          ],
          "name": "stdout"
        },
        {
          "output_type": "stream",
          "text": [
            "/usr/local/lib/python3.7/dist-packages/tensorflow/python/keras/engine/training.py:1905: UserWarning: `Model.predict_generator` is deprecated and will be removed in a future version. Please use `Model.predict`, which supports generators.\n",
            "  warnings.warn('`Model.predict_generator` is deprecated and '\n"
          ],
          "name": "stderr"
        },
        {
          "output_type": "stream",
          "text": [
            "Time:  0:02:27.128634\n"
          ],
          "name": "stdout"
        }
      ]
    },
    {
      "cell_type": "code",
      "metadata": {
        "colab": {
          "base_uri": "https://localhost:8080/"
        },
        "id": "f6g9PEc6fhhP",
        "outputId": "7388c294-947c-4f33-f8f3-cbf962beb823"
      },
      "source": [
        "# Processing Training Data \n",
        "train_generator_top = datagen.flow_from_directory(\n",
        "    train_data_dir,\n",
        "    target_size = (img_width, img_height),\n",
        "    batch_size = batch_size,\n",
        "    class_mode = 'categorical',\n",
        "    shuffle=False)\n",
        "\n",
        "nb_train_samples = len(train_generator_top.filenames)\n",
        "num_classes = len(train_generator_top.class_indices)\n",
        "\n",
        "# load the bottleneck features saved earlier\n",
        "train_data = np.load('bottleneck_features_train.npy')\n",
        "\n",
        "# get the class labels for the training data, in the original order\n",
        "train_labels = train_generator_top.classes\n",
        "\n",
        "# convert the training labels to categorical vectors\n",
        "train_labels = to_categorical(train_labels, num_classes=num_classes)"
      ],
      "execution_count": null,
      "outputs": [
        {
          "output_type": "stream",
          "text": [
            "Found 788 images belonging to 3 classes.\n"
          ],
          "name": "stdout"
        }
      ]
    },
    {
      "cell_type": "code",
      "metadata": {
        "colab": {
          "background_save": true
        },
        "id": "RwjaILgCFGfA",
        "outputId": "060036bd-97fb-455a-c59c-c7c4dda6ce22"
      },
      "source": [
        "# Processing Validation Data \n",
        "validation_generator_top = datagen.flow_from_directory(\n",
        "    validation_data_dir,\n",
        "    target_size = (img_width, img_height),\n",
        "    batch_size = batch_size,\n",
        "    class_mode = 'categorical',\n",
        "    shuffle=False)\n",
        "\n",
        "nb_val_samples = len(validation_generator_top.filenames)\n",
        "num_classes = len(validation_generator_top.class_indices)\n",
        "\n",
        "# load the bottleneck features saved earlier\n",
        "val_data = np.load('bottleneck_features_val.npy')\n",
        "\n",
        "# get the class labels for the training data, in the original order\n",
        "val_labels = validation_generator_top.classes\n",
        "\n",
        "# convert the training labels to categorical vectors\n",
        "val_labels = to_categorical(val_labels, num_classes=num_classes)"
      ],
      "execution_count": null,
      "outputs": [
        {
          "output_type": "stream",
          "text": [
            "Found 197 images belonging to 3 classes.\n"
          ],
          "name": "stdout"
        }
      ]
    },
    {
      "cell_type": "code",
      "metadata": {
        "colab": {
          "background_save": true
        },
        "id": "jjQixOGPIlUK",
        "outputId": "fa91f04d-f1cc-4219-b412-fae052f91575"
      },
      "source": [
        "# Processing Test Data \n",
        "test_generator_top = datagen.flow_from_directory(\n",
        "    test_data_dir,\n",
        "    target_size = (img_width, img_height),\n",
        "    batch_size = batch_size,\n",
        "    class_mode = 'categorical',\n",
        "    shuffle=False)\n",
        "\n",
        "nb_test_samples = len(test_generator_top.filenames)\n",
        "num_classes = len(test_generator_top.class_indices)\n",
        "\n",
        "# load the bottleneck features saved earlier\n",
        "test_data = np.load('bottleneck_features_test.npy')\n",
        "\n",
        "# get the class labels for the training data, in the original order\n",
        "test_labels = test_generator_top.classes\n",
        "\n",
        "# convert the training labels to categorical vectors\n",
        "test_labels = to_categorical(test_labels, num_classes=num_classes)"
      ],
      "execution_count": null,
      "outputs": [
        {
          "output_type": "stream",
          "text": [
            "Found 246 images belonging to 3 classes.\n"
          ],
          "name": "stdout"
        }
      ]
    },
    {
      "cell_type": "code",
      "metadata": {
        "colab": {
          "background_save": true
        },
        "id": "NzwT2n0AMBu7",
        "outputId": "511ce445-8e4c-4381-c09d-551e6992ea9b"
      },
      "source": [
        "# Creating our Convolutional Neural Network Code: \n",
        "start = datetime.datetime.now()\n",
        "model = Sequential()\n",
        "model.add (Flatten (input_shape=train_data.shape[1:]))\n",
        "model.add(Dense (100, activation=keras.layers.LeakyReLU(alpha=0.3)))\n",
        "model.add(Dropout(0.5))\n",
        "model.add(Dense(50, activation=keras.layers.LeakyReLU(alpha=0.3)))\n",
        "model.add(Dropout (0.3))\n",
        "model.add(Dense(num_classes, activation='softmax'))\n",
        "\n",
        "model.compile(loss='categorical_crossentropy',\n",
        "              optimizer=optimizers.RMSprop(lr=1e-4),\n",
        "              metrics=['acc'])\n",
        "\n",
        "history = model.fit(train_data, train_labels,\n",
        "                    epochs=epochs,\n",
        "                    batch_size=batch_size,\n",
        "                    validation_data=(val_data, val_labels))\n",
        "\n",
        "model.save_weights(top_model_weights_path)\n",
        "\n",
        "(eval_loss, eval_accuracy) = model.evaluate(\n",
        "    val_data, val_labels, batch_size=batch_size, verbose=1)\n",
        "\n",
        "print(\"[INFO] accuracy: {:.2f}%\".format(eval_accuracy * 100))\n",
        "print(\"[INFO] Loss: {}\".format(eval_loss))\n",
        "end= datetime.datetime.now()\n",
        "elapsed= end-start\n",
        "print ('Time: ', elapsed)"
      ],
      "execution_count": null,
      "outputs": [
        {
          "output_type": "stream",
          "text": [
            "Epoch 1/30\n",
            "79/79 [==============================] - 3s 30ms/step - loss: 1.1777 - acc: 0.4949 - val_loss: 0.7414 - val_acc: 0.6193\n",
            "Epoch 2/30\n",
            "79/79 [==============================] - 2s 23ms/step - loss: 0.7703 - acc: 0.6434 - val_loss: 0.5271 - val_acc: 0.8020\n",
            "Epoch 3/30\n",
            "79/79 [==============================] - 2s 24ms/step - loss: 0.5456 - acc: 0.7568 - val_loss: 0.4706 - val_acc: 0.7970\n",
            "Epoch 4/30\n",
            "79/79 [==============================] - 2s 23ms/step - loss: 0.5392 - acc: 0.7708 - val_loss: 0.3769 - val_acc: 0.8477\n",
            "Epoch 5/30\n",
            "79/79 [==============================] - 2s 24ms/step - loss: 0.4253 - acc: 0.8246 - val_loss: 0.5559 - val_acc: 0.7411\n",
            "Epoch 6/30\n",
            "79/79 [==============================] - 2s 24ms/step - loss: 0.3895 - acc: 0.8393 - val_loss: 0.3271 - val_acc: 0.8579\n",
            "Epoch 7/30\n",
            "79/79 [==============================] - 2s 23ms/step - loss: 0.2864 - acc: 0.8884 - val_loss: 0.3322 - val_acc: 0.8883\n",
            "Epoch 8/30\n",
            "79/79 [==============================] - 2s 23ms/step - loss: 0.2697 - acc: 0.8997 - val_loss: 0.3070 - val_acc: 0.8985\n",
            "Epoch 9/30\n",
            "79/79 [==============================] - 2s 24ms/step - loss: 0.3006 - acc: 0.8721 - val_loss: 0.2805 - val_acc: 0.9036\n",
            "Epoch 10/30\n",
            "79/79 [==============================] - 2s 24ms/step - loss: 0.1991 - acc: 0.9187 - val_loss: 0.2897 - val_acc: 0.8731\n",
            "Epoch 11/30\n",
            "79/79 [==============================] - 2s 25ms/step - loss: 0.2119 - acc: 0.9022 - val_loss: 0.3445 - val_acc: 0.8934\n",
            "Epoch 12/30\n",
            "79/79 [==============================] - 2s 24ms/step - loss: 0.1980 - acc: 0.9242 - val_loss: 0.2367 - val_acc: 0.9086\n",
            "Epoch 13/30\n",
            "79/79 [==============================] - 2s 24ms/step - loss: 0.1682 - acc: 0.9270 - val_loss: 0.2447 - val_acc: 0.9137\n",
            "Epoch 14/30\n",
            "79/79 [==============================] - 2s 24ms/step - loss: 0.1762 - acc: 0.9306 - val_loss: 0.3401 - val_acc: 0.8376\n",
            "Epoch 15/30\n",
            "79/79 [==============================] - 2s 24ms/step - loss: 0.1608 - acc: 0.9270 - val_loss: 0.2446 - val_acc: 0.9289\n",
            "Epoch 16/30\n",
            "79/79 [==============================] - 2s 24ms/step - loss: 0.1352 - acc: 0.9566 - val_loss: 0.2619 - val_acc: 0.9188\n",
            "Epoch 17/30\n",
            "79/79 [==============================] - 2s 24ms/step - loss: 0.1251 - acc: 0.9425 - val_loss: 0.3200 - val_acc: 0.8985\n",
            "Epoch 18/30\n",
            "79/79 [==============================] - 2s 23ms/step - loss: 0.1359 - acc: 0.9377 - val_loss: 0.2285 - val_acc: 0.9289\n",
            "Epoch 19/30\n",
            "79/79 [==============================] - 2s 24ms/step - loss: 0.1122 - acc: 0.9588 - val_loss: 0.2403 - val_acc: 0.9137\n",
            "Epoch 20/30\n",
            "79/79 [==============================] - 2s 23ms/step - loss: 0.1173 - acc: 0.9567 - val_loss: 0.2586 - val_acc: 0.9137\n",
            "Epoch 21/30\n",
            "79/79 [==============================] - 2s 23ms/step - loss: 0.0847 - acc: 0.9670 - val_loss: 0.2518 - val_acc: 0.9239\n",
            "Epoch 22/30\n",
            "79/79 [==============================] - 2s 24ms/step - loss: 0.0733 - acc: 0.9707 - val_loss: 0.2460 - val_acc: 0.9137\n",
            "Epoch 23/30\n",
            "79/79 [==============================] - 2s 24ms/step - loss: 0.0651 - acc: 0.9772 - val_loss: 0.2663 - val_acc: 0.9086\n",
            "Epoch 24/30\n",
            "79/79 [==============================] - 2s 24ms/step - loss: 0.0781 - acc: 0.9761 - val_loss: 0.2436 - val_acc: 0.9340\n",
            "Epoch 25/30\n",
            "79/79 [==============================] - 2s 24ms/step - loss: 0.0497 - acc: 0.9811 - val_loss: 0.4181 - val_acc: 0.8782\n",
            "Epoch 26/30\n",
            "79/79 [==============================] - 2s 23ms/step - loss: 0.1262 - acc: 0.9543 - val_loss: 0.2897 - val_acc: 0.8883\n",
            "Epoch 27/30\n",
            "79/79 [==============================] - 2s 23ms/step - loss: 0.0847 - acc: 0.9622 - val_loss: 0.2506 - val_acc: 0.9340\n",
            "Epoch 28/30\n",
            "79/79 [==============================] - 2s 23ms/step - loss: 0.0695 - acc: 0.9744 - val_loss: 0.3554 - val_acc: 0.9086\n",
            "Epoch 29/30\n",
            "79/79 [==============================] - 2s 23ms/step - loss: 0.0761 - acc: 0.9731 - val_loss: 0.2540 - val_acc: 0.9442\n",
            "Epoch 30/30\n",
            "79/79 [==============================] - 2s 23ms/step - loss: 0.0998 - acc: 0.9578 - val_loss: 0.2850 - val_acc: 0.9340\n",
            "20/20 [==============================] - 0s 3ms/step - loss: 0.2850 - acc: 0.9340\n",
            "[INFO] accuracy: 93.40%\n",
            "[INFO] Loss: 0.28502801060676575\n",
            "Time:  0:00:58.380461\n"
          ],
          "name": "stdout"
        }
      ]
    },
    {
      "cell_type": "code",
      "metadata": {
        "colab": {
          "background_save": true
        },
        "id": "BYcrD3APLDAS",
        "outputId": "484b7646-ed58-492b-9888-364f6ec09ea6"
      },
      "source": [
        "# Code for visulization of the Accuracy and Loss: \n",
        "# Graphing our training and validation \n",
        "acc = history.history['acc']\n",
        "val_acc = history.history['val_acc']\n",
        "loss = history.history['loss']\n",
        "val_loss = history.history['val_loss']\n",
        "epochs = range(len(acc))\n",
        "plt.plot(epochs, acc, 'r', label='Training acc')\n",
        "plt.plot(epochs, val_acc, 'b', label='Validation acc')\n",
        "plt.title('Training and validation accuracy')\n",
        "plt.ylabel('accuracy')\n",
        "plt.xlabel('epoch')\n",
        "plt.legend()\n",
        "plt.xlabel('epoch')\n",
        "plt.legend()\n",
        "plt.figure()\n",
        "plt.plot(epochs, loss, 'r', label='Training loss')\n",
        "plt.plot(epochs, val_loss, 'b', label = 'Validation loss')\n",
        "plt.title('Training and validation loss')\n",
        "plt.ylabel('loss')\n",
        "plt.xlabel('epoch')\n",
        "plt.legend()\n",
        "plt.show()"
      ],
      "execution_count": null,
      "outputs": [
        {
          "output_type": "display_data",
          "data": {
            "image/png": "[encoded data removed]",
            "text/plain": [
              "<Figure size 432x288 with 1 Axes>"
            ]
          },
          "metadata": {
            "tags": []
          }
        },
        {
          "output_type": "display_data",
          "data": {
            "image/png": "[encoded data removed]",
            "text/plain": [
              "<Figure size 432x288 with 1 Axes>"
            ]
          },
          "metadata": {
            "tags": []
          }
        }
      ]
    },
    {
      "cell_type": "code",
      "metadata": {
        "colab": {
          "background_save": true
        },
        "id": "v8pHXMS8PFHl",
        "outputId": "007713b7-99d3-4470-9cd9-3b9df2ea9faa"
      },
      "source": [
        "model.evaluate(test_data, test_labels)"
      ],
      "execution_count": null,
      "outputs": [
        {
          "output_type": "stream",
          "text": [
            "8/8 [==============================] - 0s 6ms/step - loss: 0.3620 - acc: 0.9228\n"
          ],
          "name": "stdout"
        },
        {
          "output_type": "execute_result",
          "data": {
            "text/plain": [
              "[0.3620019853115082, 0.922764241695404]"
            ]
          },
          "metadata": {
            "tags": []
          },
          "execution_count": 0
        }
      ]
    },
    {
      "cell_type": "code",
      "metadata": {
        "colab": {
          "background_save": true
        },
        "id": "_MCmGI2rPSO5",
        "outputId": "fa04843a-bdf4-4353-b067-7a23d9bc5705"
      },
      "source": [
        "preds = np.round(model.predict(test_data),0)\n",
        "print('rounded test_labels', preds)"
      ],
      "execution_count": null,
      "outputs": [
        {
          "output_type": "stream",
          "text": [
            "rounded test_labels [[1. 0. 0.]\n",
            " [1. 0. 0.]\n",
            " [1. 0. 0.]\n",
            " [1. 0. 0.]\n",
            " [1. 0. 0.]\n",
            " [1. 0. 0.]\n",
            " [1. 0. 0.]\n",
            " [1. 0. 0.]\n",
            " [1. 0. 0.]\n",
            " [1. 0. 0.]\n",
            " [1. 0. 0.]\n",
            " [1. 0. 0.]\n",
            " [1. 0. 0.]\n",
            " [1. 0. 0.]\n",
            " [1. 0. 0.]\n",
            " [1. 0. 0.]\n",
            " [1. 0. 0.]\n",
            " [1. 0. 0.]\n",
            " [1. 0. 0.]\n",
            " [0. 0. 1.]\n",
            " [1. 0. 0.]\n",
            " [1. 0. 0.]\n",
            " [1. 0. 0.]\n",
            " [1. 0. 0.]\n",
            " [1. 0. 0.]\n",
            " [1. 0. 0.]\n",
            " [1. 0. 0.]\n",
            " [1. 0. 0.]\n",
            " [1. 0. 0.]\n",
            " [1. 0. 0.]\n",
            " [1. 0. 0.]\n",
            " [1. 0. 0.]\n",
            " [1. 0. 0.]\n",
            " [1. 0. 0.]\n",
            " [0. 0. 0.]\n",
            " [1. 0. 0.]\n",
            " [0. 1. 0.]\n",
            " [1. 0. 0.]\n",
            " [1. 0. 0.]\n",
            " [0. 1. 0.]\n",
            " [1. 0. 0.]\n",
            " [1. 0. 0.]\n",
            " [1. 0. 0.]\n",
            " [1. 0. 0.]\n",
            " [1. 0. 0.]\n",
            " [1. 0. 0.]\n",
            " [1. 0. 0.]\n",
            " [1. 0. 0.]\n",
            " [1. 0. 0.]\n",
            " [1. 0. 0.]\n",
            " [1. 0. 0.]\n",
            " [1. 0. 0.]\n",
            " [1. 0. 0.]\n",
            " [0. 1. 0.]\n",
            " [1. 0. 0.]\n",
            " [1. 0. 0.]\n",
            " [1. 0. 0.]\n",
            " [1. 0. 0.]\n",
            " [1. 0. 0.]\n",
            " [1. 0. 0.]\n",
            " [1. 0. 0.]\n",
            " [1. 0. 0.]\n",
            " [1. 0. 0.]\n",
            " [1. 0. 0.]\n",
            " [1. 0. 0.]\n",
            " [1. 0. 0.]\n",
            " [1. 0. 0.]\n",
            " [0. 1. 0.]\n",
            " [1. 0. 0.]\n",
            " [0. 1. 0.]\n",
            " [1. 0. 0.]\n",
            " [1. 0. 0.]\n",
            " [1. 0. 0.]\n",
            " [1. 0. 0.]\n",
            " [1. 0. 0.]\n",
            " [1. 0. 0.]\n",
            " [1. 0. 0.]\n",
            " [1. 0. 0.]\n",
            " [1. 0. 0.]\n",
            " [1. 0. 0.]\n",
            " [1. 0. 0.]\n",
            " [0. 1. 0.]\n",
            " [1. 0. 0.]\n",
            " [1. 0. 0.]\n",
            " [1. 0. 0.]\n",
            " [1. 0. 0.]\n",
            " [0. 1. 0.]\n",
            " [0. 1. 0.]\n",
            " [0. 1. 0.]\n",
            " [0. 1. 0.]\n",
            " [0. 1. 0.]\n",
            " [0. 1. 0.]\n",
            " [0. 1. 0.]\n",
            " [0. 1. 0.]\n",
            " [0. 1. 0.]\n",
            " [0. 1. 0.]\n",
            " [0. 1. 0.]\n",
            " [0. 1. 0.]\n",
            " [0. 1. 0.]\n",
            " [0. 1. 0.]\n",
            " [1. 0. 0.]\n",
            " [0. 1. 0.]\n",
            " [0. 1. 0.]\n",
            " [0. 1. 0.]\n",
            " [0. 1. 0.]\n",
            " [0. 1. 0.]\n",
            " [0. 1. 0.]\n",
            " [0. 1. 0.]\n",
            " [0. 0. 1.]\n",
            " [0. 1. 0.]\n",
            " [0. 1. 0.]\n",
            " [0. 1. 0.]\n",
            " [0. 1. 0.]\n",
            " [0. 1. 0.]\n",
            " [0. 1. 0.]\n",
            " [0. 1. 0.]\n",
            " [0. 1. 0.]\n",
            " [0. 1. 0.]\n",
            " [0. 1. 0.]\n",
            " [0. 1. 0.]\n",
            " [0. 1. 0.]\n",
            " [0. 1. 0.]\n",
            " [0. 1. 0.]\n",
            " [0. 1. 0.]\n",
            " [0. 1. 0.]\n",
            " [0. 1. 0.]\n",
            " [0. 1. 0.]\n",
            " [0. 1. 0.]\n",
            " [0. 1. 0.]\n",
            " [0. 1. 0.]\n",
            " [0. 1. 0.]\n",
            " [0. 1. 0.]\n",
            " [0. 0. 1.]\n",
            " [0. 1. 0.]\n",
            " [0. 1. 0.]\n",
            " [0. 1. 0.]\n",
            " [0. 1. 0.]\n",
            " [0. 1. 0.]\n",
            " [0. 1. 0.]\n",
            " [0. 1. 0.]\n",
            " [0. 1. 0.]\n",
            " [0. 1. 0.]\n",
            " [0. 1. 0.]\n",
            " [0. 1. 0.]\n",
            " [1. 0. 0.]\n",
            " [0. 1. 0.]\n",
            " [0. 1. 0.]\n",
            " [0. 1. 0.]\n",
            " [0. 1. 0.]\n",
            " [0. 1. 0.]\n",
            " [1. 0. 0.]\n",
            " [0. 1. 0.]\n",
            " [0. 1. 0.]\n",
            " [0. 1. 0.]\n",
            " [0. 1. 0.]\n",
            " [0. 1. 0.]\n",
            " [0. 1. 0.]\n",
            " [0. 1. 0.]\n",
            " [0. 1. 0.]\n",
            " [0. 1. 0.]\n",
            " [0. 1. 0.]\n",
            " [0. 1. 0.]\n",
            " [0. 1. 0.]\n",
            " [0. 1. 0.]\n",
            " [0. 1. 0.]\n",
            " [0. 1. 0.]\n",
            " [1. 0. 0.]\n",
            " [0. 0. 1.]\n",
            " [0. 0. 1.]\n",
            " [0. 0. 1.]\n",
            " [0. 0. 1.]\n",
            " [0. 0. 1.]\n",
            " [0. 1. 0.]\n",
            " [0. 0. 1.]\n",
            " [0. 0. 1.]\n",
            " [0. 0. 1.]\n",
            " [0. 0. 1.]\n",
            " [0. 0. 1.]\n",
            " [0. 0. 1.]\n",
            " [0. 0. 1.]\n",
            " [0. 0. 1.]\n",
            " [0. 0. 1.]\n",
            " [0. 0. 1.]\n",
            " [0. 0. 1.]\n",
            " [0. 0. 1.]\n",
            " [0. 0. 1.]\n",
            " [0. 0. 1.]\n",
            " [0. 0. 1.]\n",
            " [0. 0. 1.]\n",
            " [0. 0. 1.]\n",
            " [0. 0. 1.]\n",
            " [0. 0. 1.]\n",
            " [0. 0. 1.]\n",
            " [0. 0. 1.]\n",
            " [0. 0. 1.]\n",
            " [0. 0. 1.]\n",
            " [0. 0. 1.]\n",
            " [0. 0. 1.]\n",
            " [0. 0. 1.]\n",
            " [0. 0. 1.]\n",
            " [0. 1. 0.]\n",
            " [0. 0. 1.]\n",
            " [0. 0. 1.]\n",
            " [0. 0. 1.]\n",
            " [0. 0. 1.]\n",
            " [0. 0. 1.]\n",
            " [0. 0. 1.]\n",
            " [0. 0. 1.]\n",
            " [0. 0. 1.]\n",
            " [0. 0. 1.]\n",
            " [0. 0. 1.]\n",
            " [0. 0. 1.]\n",
            " [0. 0. 1.]\n",
            " [0. 0. 1.]\n",
            " [0. 0. 1.]\n",
            " [0. 0. 1.]\n",
            " [0. 0. 1.]\n",
            " [0. 0. 1.]\n",
            " [0. 0. 1.]\n",
            " [0. 0. 1.]\n",
            " [0. 0. 1.]\n",
            " [0. 0. 1.]\n",
            " [0. 0. 1.]\n",
            " [0. 0. 1.]\n",
            " [0. 0. 1.]\n",
            " [0. 0. 1.]\n",
            " [0. 0. 1.]\n",
            " [0. 0. 1.]\n",
            " [0. 0. 1.]\n",
            " [0. 0. 1.]\n",
            " [1. 0. 0.]\n",
            " [1. 0. 0.]\n",
            " [0. 0. 1.]\n",
            " [0. 0. 1.]\n",
            " [0. 0. 1.]\n",
            " [0. 0. 1.]\n",
            " [0. 0. 1.]\n",
            " [0. 0. 1.]\n",
            " [0. 0. 1.]\n",
            " [1. 0. 0.]\n",
            " [0. 0. 1.]\n",
            " [0. 0. 1.]\n",
            " [0. 0. 1.]\n",
            " [0. 0. 1.]\n",
            " [0. 0. 1.]\n",
            " [0. 0. 1.]]\n"
          ],
          "name": "stdout"
        }
      ]
    },
    {
      "cell_type": "code",
      "metadata": {
        "colab": {
          "background_save": true
        },
        "id": "XVBjWIjqP7S7",
        "outputId": "f180d141-cc00-49a8-8412-e4b08ed90154"
      },
      "source": [
        "animals = ['Eland', 'Kudu_Bull', 'Mountain_Zebra']\n",
        "classification_metrics = metrics.classification_report(test_labels, preds, target_names=animals )\n",
        "print(classification_metrics)"
      ],
      "execution_count": null,
      "outputs": [
        {
          "output_type": "stream",
          "text": [
            "                precision    recall  f1-score   support\n",
            "\n",
            "         Eland       0.92      0.91      0.91        86\n",
            "     Kudu_Bull       0.90      0.94      0.92        80\n",
            "Mountain_Zebra       0.96      0.93      0.94        80\n",
            "\n",
            "     micro avg       0.93      0.92      0.92       246\n",
            "     macro avg       0.93      0.92      0.93       246\n",
            "  weighted avg       0.93      0.92      0.92       246\n",
            "   samples avg       0.92      0.92      0.92       246\n",
            "\n"
          ],
          "name": "stdout"
        },
        {
          "output_type": "stream",
          "text": [
            "/usr/local/lib/python3.7/dist-packages/sklearn/metrics/_classification.py:1272: UndefinedMetricWarning: Precision and F-score are ill-defined and being set to 0.0 in samples with no predicted labels. Use `zero_division` parameter to control this behavior.\n",
            "  _warn_prf(average, modifier, msg_start, len(result))\n"
          ],
          "name": "stderr"
        }
      ]
    },
    {
      "cell_type": "code",
      "metadata": {
        "colab": {
          "background_save": true
        },
        "id": "AVDcXCUkQ41J"
      },
      "source": [
        "# Creating our confusion matrix\n",
        "\n",
        "categorical_test_labels = pd.DataFrame(test_labels).idxmax(axis=1)\n",
        "categorical_preds = pd.DataFrame(preds).idxmax(axis=1)\n",
        "confusion_matrix = confusion_matrix(categorical_test_labels, categorical_preds)\n",
        "\n",
        "# Displaying the confusion matrix:\n",
        "\n",
        "def plot_confusion_matrix(cm, classes,\n",
        "                          normalize=False,\n",
        "                          title='Confusion matrix',\n",
        "                          cmap=plt.cm.Blues):\n",
        "\n",
        "# Creating the option for normalization:\n",
        "  if normalize:\n",
        "    cm = cm.astype('float') / cm.sum(axis=1) [:, np.newaxis]\n",
        "    print(\"Normalized confusion matrix\")\n",
        "  else: \n",
        "    print('Confusion matrix, without normalization')\n",
        "\n",
        "# Printing the confusion matrix\n",
        "\n",
        "  plt.imshow(cm, interpolation='nearest', cmap=cmap)\n",
        "  plt.title(title)\n",
        "  plt.colorbar()\n",
        "  tick_marks = np.arange(len(classes))\n",
        "  plt.xticks(tick_marks, classes, rotation=45)\n",
        "  plt.yticks(tick_marks, classes)\n",
        "\n",
        "  fmt = '.2f' if normalize else 'd'\n",
        "  thresh = cm.max() / 2.\n",
        "  for i, j in itertools.product(range(cm.shape[0]), range(cm.shape[1])):\n",
        "      plt.text(j, i, format(cm[i, j], fmt), horizontalalignment=\"center\", color=\"white\" if cm[i, j] > thresh else \"black\")\n",
        "  plt.tight_layout()\n",
        "  plt.ylabel('True label')\n",
        "  plt.xlabel('Predicted label') "
      ],
      "execution_count": null,
      "outputs": []
    },
    {
      "cell_type": "code",
      "metadata": {
        "colab": {
          "background_save": true
        },
        "id": "j4QSubrrXwiu",
        "outputId": "1813ca80-e86e-4cea-923c-94abbd53f350"
      },
      "source": [
        "# Plotting the confusion matrix\n",
        "plot_confusion_matrix(confusion_matrix, ['Eland', 'Kudu_Bull', 'Mountain_Zebra'], normalize=True)"
      ],
      "execution_count": null,
      "outputs": [
        {
          "output_type": "stream",
          "text": [
            "Normalized confusion matrix\n"
          ],
          "name": "stdout"
        },
        {
          "output_type": "display_data",
          "data": {
            "image/png": "[encoded data removed]",
            "text/plain": [
              "<Figure size 432x288 with 2 Axes>"
            ]
          },
          "metadata": {
            "tags": []
          }
        }
      ]
    },
    {
      "cell_type": "markdown",
      "metadata": {
        "id": "jokCA0tVolyQ"
      },
      "source": [
        "Mamun, Iftekher (April 7th, 2019) A Simple CNN: Multi Image Classifier. [Towards Data Science] Retrieved from: https://towardsdatascience.com/a-simple-cnn-multi-image-classifier-31c463324fa\n",
        "\n",
        "Chollet, Francois (2018) *Deep Learning with Python*. Manning Publications, Shelter Island, NY.\n",
        "\n",
        "Shah, Tarang (December 6th, 2017) About Train, Validation and Test Sets in Machine Learning [Towards Data Science] Retrieved from: https://towardsdatascience.com/train-validation-and-test-sets-72cb40cba9e7\n",
        "\n",
        "Labeled Information Library of Alexandria (LILA BC) (n.d.) Snapshot Kgalagadi (Season 1). Retrieved from: http://lila.science/datasets/snapshot-kgalagadi\n",
        "\n",
        "Labeled Information Library of Alexandria (LILA BC) (n.d.) Snapshot Camdeboo (Season 1). Retrieved from: http://lila.science/datasets/snapshot-camdeboo\n",
        "\n",
        "Labeled Information Library of Alexandria (LILA BC) (n.d.) Snapshot Karoo (Season 1). Retrieved from: http://lila.science/datasets/snapshot-karoo"
      ]
    }
  ]
}
